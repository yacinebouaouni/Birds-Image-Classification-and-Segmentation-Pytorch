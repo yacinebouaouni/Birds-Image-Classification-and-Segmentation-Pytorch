{
 "metadata": {
  "kernelspec": {
   "language": "python",
   "display_name": "Python 3",
   "name": "python3"
  },
  "language_info": {
   "pygments_lexer": "ipython3",
   "nbconvert_exporter": "python",
   "version": "3.6.4",
   "file_extension": ".py",
   "codemirror_mode": {
    "name": "ipython",
    "version": 3
   },
   "name": "python",
   "mimetype": "text/x-python"
  }
 },
 "nbformat_minor": 4,
 "nbformat": 4,
 "cells": [
  {
   "cell_type": "code",
   "source": [
    "import numpy as np\n",
    "import os\n",
    "import torch\n",
    "import torchvision\n",
    "from torchvision import models\n",
    "import torch.nn as nn\n",
    "import torch.optim as optim\n",
    "from torchvision import datasets, transforms\n",
    "import matplotlib.pyplot as plt\n",
    "import seaborn as sns\n",
    "from tqdm import tqdm\n",
    "import PIL.Image as Image\n",
    "import time\n",
    "import copy\n",
    "\n",
    "import warnings\n",
    "warnings.filterwarnings(\"ignore\")"
   ],
   "metadata": {
    "_uuid": "8f2839f25d086af736a60e9eeb907d3b93b6e0e5",
    "_cell_guid": "b1076dfc-b9ad-4769-8c92-a6c4dae69d19",
    "execution": {
     "iopub.status.busy": "2021-11-23T17:33:31.174329Z",
     "iopub.execute_input": "2021-11-23T17:33:31.174691Z",
     "iopub.status.idle": "2021-11-23T17:33:33.416870Z",
     "shell.execute_reply.started": "2021-11-23T17:33:31.174620Z",
     "shell.execute_reply": "2021-11-23T17:33:33.416138Z"
    },
    "editable": false,
    "trusted": true
   },
   "execution_count": null,
   "outputs": []
  },
  {
   "cell_type": "code",
   "source": [
    "device = torch.device(\"cuda:0\" if torch.cuda.is_available() else \"cpu\")\n",
    "batch_size = 64\n",
    "img_size = 320\n",
    "img_crop = 300\n",
    "epochs = 10\n"
   ],
   "metadata": {
    "execution": {
     "iopub.status.busy": "2021-11-23T17:33:35.603147Z",
     "iopub.execute_input": "2021-11-23T17:33:35.603705Z",
     "iopub.status.idle": "2021-11-23T17:33:35.607577Z",
     "shell.execute_reply.started": "2021-11-23T17:33:35.603668Z",
     "shell.execute_reply": "2021-11-23T17:33:35.606532Z"
    },
    "editable": false,
    "trusted": true
   },
   "execution_count": null,
   "outputs": []
  },
  {
   "cell_type": "markdown",
   "source": [
    "# 1. Create Data transforms and Data loaders:"
   ],
   "metadata": {
    "editable": false
   }
  },
  {
   "cell_type": "code",
   "source": [
    "data_transforms_train = transforms.Compose([\n",
    "        transforms.Resize((img_size,img_size)),\n",
    "        transforms.CenterCrop(img_crop),\n",
    "        transforms.ToTensor(),\n",
    "        transforms.Normalize([0.485, 0.456, 0.406], [0.229, 0.224, 0.225])\n",
    "    ])\n",
    "data_transforms_test = transforms.Compose([\n",
    "        transforms.Resize((img_size,img_size)),\n",
    "        transforms.CenterCrop(img_crop),\n",
    "\n",
    "        transforms.ToTensor(),\n",
    "        transforms.Normalize([0.485, 0.456, 0.406], [0.229, 0.224, 0.225]),\n",
    "    ])\n",
    "\n",
    "data_transforms_val = transforms.Compose([\n",
    "        transforms.Resize((img_size,img_size)),\n",
    "        transforms.CenterCrop(img_crop),\n",
    "\n",
    "        transforms.ToTensor(),\n",
    "        transforms.Normalize([0.485, 0.456, 0.406], [0.229, 0.224, 0.225])\n",
    "    ])\n",
    "\n",
    "\n",
    "path = '../input/birds-augmented-dataset/AugmentedDataset/'\n",
    "\n",
    "\n",
    "train_loader = torch.utils.data.DataLoader(\n",
    "    datasets.ImageFolder(path+'train', transform=data_transforms_train),\n",
    "    batch_size=batch_size, shuffle=True, num_workers=4)\n",
    "\n",
    "val_loader = torch.utils.data.DataLoader(\n",
    "    datasets.ImageFolder(path+'valid',transform=data_transforms_val),\n",
    "    batch_size=200, shuffle=True, num_workers=4)\n",
    "\n",
    "test_loader = torch.utils.data.DataLoader(\n",
    "    datasets.ImageFolder(path+'test',transform=data_transforms_test),\n",
    "    batch_size=1, shuffle=False, num_workers=1)\n",
    "\n",
    "\n",
    "\n",
    "dataloaders = {\"train\":train_loader, \"valid\":val_loader}"
   ],
   "metadata": {
    "execution": {
     "iopub.status.busy": "2021-11-23T17:33:37.133282Z",
     "iopub.execute_input": "2021-11-23T17:33:37.133855Z",
     "iopub.status.idle": "2021-11-23T17:33:40.542086Z",
     "shell.execute_reply.started": "2021-11-23T17:33:37.133814Z",
     "shell.execute_reply": "2021-11-23T17:33:40.541126Z"
    },
    "editable": false,
    "trusted": true
   },
   "execution_count": null,
   "outputs": []
  },
  {
   "cell_type": "markdown",
   "source": [
    "# 2. Training and evaluation function:"
   ],
   "metadata": {
    "editable": false
   }
  },
  {
   "cell_type": "code",
   "source": [
    "def train(model, epoch):\n",
    "    model.train()\n",
    "    n_batches = 0\n",
    "    acc_train = 0\n",
    "    for batch_idx, (data, labels) in enumerate(train_loader):\n",
    "        data, labels = data.to(device), labels.to(device)\n",
    "        optimizer.zero_grad()\n",
    "        #forward\n",
    "        preds= model(data)\n",
    "        loss = criterion(preds, labels)\n",
    "        loss.backward()\n",
    "        optimizer.step()\n",
    "        m = nn.Softmax(dim=1)\n",
    "        probs = m(preds)\n",
    "        preds_classes = probs.max(1, keepdim=True)[1]\n",
    "        if batch_idx % 25 == 0:\n",
    "            print('[{}/{} ({:.0f}%)]\\tLoss: {:.6f}'.format(\n",
    "                batch_idx * len(data), len(train_loader.dataset),\n",
    "                100. * batch_idx / len(train_loader), loss.data.item()))\n",
    "        \n",
    "        acc_train += torch.sum(torch.squeeze(preds_classes)==labels).item()/labels.shape[0]\n",
    "        n_batches += 1\n",
    "        \n",
    "    acc_train /= n_batches\n",
    "    print('Epoch = {} ... Train Accuracy = {:.2f}'.format(epoch,100*acc_train))\n",
    "    \n",
    "        \n",
    "\n",
    "\n",
    "def validation(model):\n",
    "    model.eval()\n",
    "    validation_loss = 0\n",
    "    correct = 0\n",
    "    with torch.no_grad():\n",
    "        \n",
    "        for data, labels in val_loader:\n",
    "            data, labels = data.to(device), labels.to(device)\n",
    "            preds = model(data)\n",
    "            # sum up batch loss\n",
    "            validation_loss += criterion(preds, labels).data.item()\n",
    "            m = nn.Softmax(dim=1)\n",
    "            probs = m(preds)\n",
    "            preds_classes = probs.max(1, keepdim=True)[1]\n",
    "            correct += preds_classes.eq(labels.data.view_as(preds_classes)).sum()\n",
    "        validation_loss /= len(val_loader.dataset)\n",
    "    print('\\nValidation set: Average loss: {:.4f}, Accuracy: {}/{} ({:.2f}%)'.format(\n",
    "        validation_loss, correct, len(val_loader.dataset),\n",
    "        100. * correct / len(val_loader.dataset)))\n",
    "    \n",
    "    return preds_classes,labels"
   ],
   "metadata": {
    "execution": {
     "iopub.status.busy": "2021-11-23T20:54:40.914183Z",
     "iopub.execute_input": "2021-11-23T20:54:40.914793Z",
     "iopub.status.idle": "2021-11-23T20:54:40.928323Z",
     "shell.execute_reply.started": "2021-11-23T20:54:40.914754Z",
     "shell.execute_reply": "2021-11-23T20:54:40.926490Z"
    },
    "editable": false,
    "trusted": true
   },
   "execution_count": null,
   "outputs": []
  },
  {
   "cell_type": "markdown",
   "source": [
    "# Model:"
   ],
   "metadata": {
    "editable": false
   }
  },
  {
   "cell_type": "code",
   "source": [
    "model = torchvision.models.resnet152(pretrained=True)\n",
    "\n",
    "for param in model.parameters():\n",
    "    param.requires_grad = False\n",
    "    \n",
    "for param in model.layer4.parameters():\n",
    "    param.requires_grad = True\n",
    "    \n",
    "\n",
    "model.fc=nn.Sequential(\n",
    "               nn.Dropout(p=0.4),\n",
    "               nn.Linear(model.fc.in_features, 1000),\n",
    "               nn.Dropout(p=0.2),\n",
    "               nn.ReLU(inplace=True),\n",
    "               nn.Linear(1000, 20))\n",
    "      \n",
    "model.to(device)\n",
    "\n",
    "criterion = torch.nn.CrossEntropyLoss()\n",
    "optimizer = torch.optim.Adam(model.parameters(), lr=0.0001) \n",
    "lr_scheduler = torch.optim.lr_scheduler.StepLR(optimizer, step_size=5, gamma=0.75)"
   ],
   "metadata": {
    "execution": {
     "iopub.status.busy": "2021-11-23T20:55:54.635101Z",
     "iopub.execute_input": "2021-11-23T20:55:54.635554Z",
     "iopub.status.idle": "2021-11-23T20:55:57.422208Z",
     "shell.execute_reply.started": "2021-11-23T20:55:54.635514Z",
     "shell.execute_reply": "2021-11-23T20:55:57.421448Z"
    },
    "editable": false,
    "trusted": true
   },
   "execution_count": null,
   "outputs": []
  },
  {
   "cell_type": "code",
   "source": [
    "epochs=20\n",
    "for epoch in range(1, epochs + 1):\n",
    "    print(\"################################################# EPOCH\", epoch)\n",
    "    train(model, epoch)\n",
    "    preds = validation(model)\n",
    "    model_file = 'experiments' + '/model_' + str(epoch) + '.pth'\n",
    "    torch.save(model.state_dict(), model_file)\n",
    "    lr_scheduler.step()"
   ],
   "metadata": {
    "editable": false
   },
   "execution_count": null,
   "outputs": []
  },
  {
   "cell_type": "code",
   "source": [
    "save = False\n",
    "if save:\n",
    "    torch.save(model.state_dict(), '/kaggle/working/model152.pt')"
   ],
   "metadata": {
    "editable": false,
    "trusted": true
   },
   "execution_count": null,
   "outputs": []
  },
  {
   "cell_type": "markdown",
   "source": "# Ensemble the models:",
   "metadata": {
    "editable": false
   }
  },
  {
   "cell_type": "code",
   "source": "#Change this model by another one.\nmodel1 = torchvision.models.resnet152(pretrained=True)\n\nfor param in model1.parameters():\n    param.requires_grad = False\n    \nfor param in model1.layer4.parameters():\n    param.requires_grad = True\n    \nmodel1.fc = nn.Sequential(\n               nn.Dropout(p=0.4),\n               nn.Linear(model1.fc.in_features, 1000),\n               nn.Dropout(p=0.2),\n               nn.ReLU(inplace=True),\n               nn.Linear(1000, 20))\n\nmodel1.load_state_dict(torch.load('../input/predictions/model_resnet101_orig_300_64.pt'),strict=False)\n\nmodel1.to('cuda')\nmodel1.eval()\nprint('model 1 loaded')",
   "metadata": {
    "execution": {
     "iopub.status.busy": "2021-11-23T20:58:02.341475Z",
     "iopub.execute_input": "2021-11-23T20:58:02.341754Z",
     "iopub.status.idle": "2021-11-23T20:58:07.534013Z",
     "shell.execute_reply.started": "2021-11-23T20:58:02.341722Z",
     "shell.execute_reply": "2021-11-23T20:58:07.533130Z"
    },
    "editable": false,
    "trusted": true
   },
   "execution_count": null,
   "outputs": []
  },
  {
   "cell_type": "code",
   "source": "preds1,labels = validation(model1)",
   "metadata": {
    "execution": {
     "iopub.status.busy": "2021-11-23T20:58:44.630627Z",
     "iopub.execute_input": "2021-11-23T20:58:44.630918Z",
     "iopub.status.idle": "2021-11-23T20:58:54.993578Z",
     "shell.execute_reply.started": "2021-11-23T20:58:44.630885Z",
     "shell.execute_reply": "2021-11-23T20:58:54.992688Z"
    },
    "editable": false,
    "trusted": true
   },
   "execution_count": null,
   "outputs": []
  },
  {
   "cell_type": "code",
   "source": "#Change this model by another one.\nmodel2 = torchvision.models.resnext101_32x8d(pretrained=True)\n\nfor param in model1.parameters():\n    param.requires_grad = False\n    \nfor param in model1.layer4.parameters():\n    param.requires_grad = True\n    \nmodel2.fc = nn.Sequential(\n               nn.Dropout(p=0.4),\n               nn.Linear(model2.fc.in_features, 1000),\n               nn.Dropout(p=0.2),\n               nn.ReLU(inplace=True),\n               nn.Linear(1000, 20))\n\nmodel2.load_state_dict(torch.load('/kaggle/input/predictions/model_resnext101_32x8d_300_64.pt'),strict=False)\n\nmodel2.to('cuda')\nmodel2.eval()\nprint('model 2 loaded')",
   "metadata": {
    "execution": {
     "iopub.status.busy": "2021-11-23T20:58:18.040942Z",
     "iopub.execute_input": "2021-11-23T20:58:18.041517Z",
     "iopub.status.idle": "2021-11-23T20:58:26.080870Z",
     "shell.execute_reply.started": "2021-11-23T20:58:18.041480Z",
     "shell.execute_reply": "2021-11-23T20:58:26.080152Z"
    },
    "editable": false,
    "trusted": true
   },
   "execution_count": null,
   "outputs": []
  },
  {
   "cell_type": "code",
   "source": "preds2,labels = validation(model2)",
   "metadata": {
    "execution": {
     "iopub.status.busy": "2021-11-23T20:58:26.082447Z",
     "iopub.execute_input": "2021-11-23T20:58:26.082697Z",
     "iopub.status.idle": "2021-11-23T20:58:40.681258Z",
     "shell.execute_reply.started": "2021-11-23T20:58:26.082662Z",
     "shell.execute_reply": "2021-11-23T20:58:40.680122Z"
    },
    "editable": false,
    "trusted": true
   },
   "execution_count": null,
   "outputs": []
  },
  {
   "cell_type": "markdown",
   "source": "# Testing function to compute the predictions of each model based on duplicate testing and compute their confidence.",
   "metadata": {
    "editable": false
   }
  },
  {
   "cell_type": "code",
   "source": "def testing(model):\n    \n    test_loader = torch.utils.data.DataLoader(\n    datasets.ImageFolder(path+'test/',transform=data_transforms_test),\n    batch_size=1, shuffle=False, num_workers=1)\n\n    preds = np.array([])\n    probas_ = []\n    model.eval()\n    with torch.no_grad():\n        for i, (data, labels) in tqdm(enumerate(test_loader, 0)):\n            data, labels = data.to(device), labels.to(device)\n            output1 = model(data)\n\n            sm = nn.Softmax(dim=1)(output1)\n            pred = sm.max(1, keepdim=True)[1]    \n            preds = np.hstack((preds, torch.squeeze(pred).cpu().numpy()))\n            probas_.append(sm.max().item())\n\n    p_=[]\n\n    for i in range(7):\n        if i in [2,3,4,5]:\n            p_.append(probas_[i*517:(i+1)*517])\n\n    p_ = np.transpose(np.array(p_))\n    max_ = p_.argmax(axis=1)\n    max_probs = p_.max(axis=1)\n\n    preds_=[]\n\n    for i in range(7):\n        if i in [2,3,4,5]:\n            preds_.append(preds[i*517:(i+1)*517])\n\n\n    preds_ = np.transpose(np.array(preds_))\n    preds_final = []\n    for i in range(len(max_)):\n\n        preds_final.append(int(preds_[i][max_[i]]))\n\n    return preds_final,max_probs",
   "metadata": {
    "execution": {
     "iopub.status.busy": "2021-11-23T20:59:02.193220Z",
     "iopub.execute_input": "2021-11-23T20:59:02.194040Z",
     "iopub.status.idle": "2021-11-23T20:59:02.207834Z",
     "shell.execute_reply.started": "2021-11-23T20:59:02.193995Z",
     "shell.execute_reply": "2021-11-23T20:59:02.207012Z"
    },
    "editable": false,
    "trusted": true
   },
   "execution_count": null,
   "outputs": []
  },
  {
   "cell_type": "markdown",
   "source": "# Perform Duplicate Testing for each model:",
   "metadata": {
    "editable": false
   }
  },
  {
   "cell_type": "code",
   "source": "preds_final1,max_probs1 = testing(model1)\npreds_final2,max_probs2 = testing(model2)",
   "metadata": {
    "editable": false,
    "trusted": true
   },
   "execution_count": null,
   "outputs": []
  },
  {
   "cell_type": "markdown",
   "source": "# Confidence based predictions:\n\n**Use the prediction of the model that has more confidence score to the test image**",
   "metadata": {
    "editable": false
   }
  },
  {
   "cell_type": "code",
   "source": "submission=[]\nfirst_model = 0\nsecond_model = 0\nfor i in range(len(preds_final1)):\n    if max_probs1[i] >= max_probs2[i]:\n        submission.append(preds_final1[i])\n        first_model +=1\n        \n    else:\n        submission.append(preds_final2[i])\n        second_model += 1",
   "metadata": {
    "editable": false,
    "trusted": true
   },
   "execution_count": null,
   "outputs": []
  },
  {
   "cell_type": "code",
   "source": "print(f'The final submission took {first_model} of First model and {second_model} of Second model')",
   "metadata": {
    "editable": false,
    "trusted": true
   },
   "execution_count": null,
   "outputs": []
  },
  {
   "cell_type": "markdown",
   "source": "# Save Submissions:",
   "metadata": {
    "editable": false
   }
  },
  {
   "cell_type": "code",
   "source": "def save_subs(idx,preds):\n    f = open(\"submission\"+str(idx)+\".csv\", \"w\")\n    f.write(\"Id,Category\\n\")\n    for (n,_),p in zip(test_loader.dataset.samples,preds):\n        f.write(\"{},{}\\n\".format(n.split('/')[-1].split('.')[0], int(p)))\n    f.close()",
   "metadata": {
    "editable": false
   },
   "execution_count": null,
   "outputs": []
  },
  {
   "cell_type": "code",
   "source": "save_subs('F7',preds)",
   "metadata": {
    "execution": {
     "iopub.status.busy": "2021-11-23T20:50:11.830832Z",
     "iopub.execute_input": "2021-11-23T20:50:11.831512Z",
     "iopub.status.idle": "2021-11-23T20:50:11.836597Z",
     "shell.execute_reply.started": "2021-11-23T20:50:11.831478Z",
     "shell.execute_reply": "2021-11-23T20:50:11.835831Z"
    },
    "editable": false,
    "trusted": true
   },
   "execution_count": null,
   "outputs": []
  }
 ]
}